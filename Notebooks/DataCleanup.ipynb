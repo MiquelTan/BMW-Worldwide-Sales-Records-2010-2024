{
  "nbformat": 4,
  "nbformat_minor": 0,
  "metadata": {
    "colab": {
      "provenance": []
    },
    "kernelspec": {
      "name": "python3",
      "display_name": "Python 3"
    },
    "language_info": {
      "name": "python"
    }
  },
  "cells": [
    {
      "cell_type": "code",
      "execution_count": 2,
      "metadata": {
        "colab": {
          "base_uri": "https://localhost:8080/"
        },
        "id": "_RIsJk9-xsJX",
        "outputId": "7c8eaa30-26ca-4e35-a74e-47007c95706d"
      },
      "outputs": [
        {
          "output_type": "stream",
          "name": "stdout",
          "text": [
            "Shape: (50000, 11)\n",
            "\n",
            "Columns: ['Model', 'Year', 'Region', 'Color', 'Fuel_Type', 'Transmission', 'Engine_Size_L', 'Mileage_KM', 'Price_USD', 'Sales_Volume', 'Sales_Classification']\n",
            "\n",
            "First 5 rows:\n",
            "      Model  Year         Region  Color Fuel_Type Transmission  Engine_Size_L  \\\n",
            "0  5 Series  2016           Asia    Red    Petrol       Manual            3.5   \n",
            "1        i8  2013  North America    Red    Hybrid    Automatic            1.6   \n",
            "2  5 Series  2022  North America   Blue    Petrol    Automatic            4.5   \n",
            "3        X3  2024    Middle East   Blue    Petrol    Automatic            1.7   \n",
            "4  7 Series  2020  South America  Black    Diesel       Manual            2.1   \n",
            "\n",
            "   Mileage_KM  Price_USD  Sales_Volume Sales_Classification  \n",
            "0      151748      98740          8300                 High  \n",
            "1      121671      79219          3428                  Low  \n",
            "2       10991     113265          6994                  Low  \n",
            "3       27255      60971          4047                  Low  \n",
            "4      122131      49898          3080                  Low  \n"
          ]
        }
      ],
      "source": [
        "import pandas as pd\n",
        "import os\n",
        "\n",
        "# Load data\n",
        "df = pd.read_csv('Raw.csv')\n",
        "\n",
        "# Cek struktur data\n",
        "print(\"Shape:\", df.shape)\n",
        "print(\"\\nColumns:\", df.columns.tolist())\n",
        "print(\"\\nFirst 5 rows:\")\n",
        "print(df.head())"
      ]
    },
    {
      "cell_type": "code",
      "source": [
        "# Cek masalah data dasar\n",
        "print(\"=== DATA QUALITY CHECK ===\")\n",
        "print(\"Missing values:\")\n",
        "print(df.isnull().sum())\n",
        "print(f\"\\nDuplicates: {df.duplicated().sum()}\")\n",
        "\n",
        "# Hapus duplikat\n",
        "df_clean = df.drop_duplicates()\n",
        "print(f\"Data after removing duplicates: {df_clean.shape}\")\n",
        "\n",
        "# Standardize text columns\n",
        "df_clean['Model'] = df_clean['Model'].str.upper().str.strip()\n",
        "df_clean['Region'] = df_clean['Region'].str.title().str.strip()\n",
        "df_clean['Color'] = df_clean['Color'].str.title().str.strip()\n",
        "df_clean['Fuel_Type'] = df_clean['Fuel_Type'].str.title().str.strip()\n",
        "df_clean['Transmission'] = df_clean['Transmission'].str.title().str.strip()\n",
        "\n",
        "print(\"\\n=== AFTER CLEANING ===\")\n",
        "print(\"Unique models:\", df_clean['Model'].unique())\n",
        "print(\"Unique regions:\", df_clean['Region'].unique())"
      ],
      "metadata": {
        "colab": {
          "base_uri": "https://localhost:8080/"
        },
        "id": "5vsKJLb_yPRA",
        "outputId": "1e7f8a37-0ac6-4848-867d-96ad0c923a19"
      },
      "execution_count": 3,
      "outputs": [
        {
          "output_type": "stream",
          "name": "stdout",
          "text": [
            "=== DATA QUALITY CHECK ===\n",
            "Missing values:\n",
            "Model                   0\n",
            "Year                    0\n",
            "Region                  0\n",
            "Color                   0\n",
            "Fuel_Type               0\n",
            "Transmission            0\n",
            "Engine_Size_L           0\n",
            "Mileage_KM              0\n",
            "Price_USD               0\n",
            "Sales_Volume            0\n",
            "Sales_Classification    0\n",
            "dtype: int64\n",
            "\n",
            "Duplicates: 0\n",
            "Data after removing duplicates: (50000, 11)\n",
            "\n",
            "=== AFTER CLEANING ===\n",
            "Unique models: ['5 SERIES' 'I8' 'X3' '7 SERIES' 'M5' '3 SERIES' 'X1' 'M3' 'X5' 'I3' 'X6']\n",
            "Unique regions: ['Asia' 'North America' 'Middle East' 'South America' 'Europe' 'Africa']\n"
          ]
        }
      ]
    },
    {
      "cell_type": "code",
      "source": [
        "# Buat folder untuk menyimpan hasil\n",
        "os.makedirs('cleaned_data/by_year', exist_ok=True)\n",
        "os.makedirs('cleaned_data/by_model', exist_ok=True)\n",
        "\n",
        "# Pisahkan berdasarkan rentang tahun\n",
        "print(\"\\n=== SPLITTING BY YEAR ===\")\n",
        "\n",
        "# Definisikan rentang tahun\n",
        "year_ranges = [\n",
        "    (2010, 2014, \"2010-2014\"),\n",
        "    (2015, 2019, \"2015-2019\"),\n",
        "    (2020, 2024, \"2020-2024\")\n",
        "]\n",
        "\n",
        "for start, end, label in year_ranges:\n",
        "    year_data = df_clean[df_clean['Year'].between(start, end)]\n",
        "    filename = f\"cleaned_data/by_year/cars_{label}.csv\"\n",
        "    year_data.to_csv(filename, index=False)\n",
        "    print(f\"{label}: {len(year_data)} records -> {filename}\")\n",
        "\n",
        "# Simpan semua data yang sudah dibersihkan\n",
        "df_clean.to_csv(\"cleaned_data/all_cars_cleaned.csv\", index=False)\n",
        "print(f\"\\nFull cleaned data: {len(df_clean)} records -> cleaned_data/all_cars_cleaned.csv\")"
      ],
      "metadata": {
        "colab": {
          "base_uri": "https://localhost:8080/"
        },
        "id": "N-kb9PStyTlG",
        "outputId": "daa24f82-42b3-49af-d2cd-4d0b8098a25f"
      },
      "execution_count": 4,
      "outputs": [
        {
          "output_type": "stream",
          "name": "stdout",
          "text": [
            "\n",
            "=== SPLITTING BY YEAR ===\n",
            "2010-2014: 16616 records -> cleaned_data/by_year/cars_2010-2014.csv\n",
            "2015-2019: 16683 records -> cleaned_data/by_year/cars_2015-2019.csv\n",
            "2020-2024: 16701 records -> cleaned_data/by_year/cars_2020-2024.csv\n",
            "\n",
            "Full cleaned data: 50000 records -> cleaned_data/all_cars_cleaned.csv\n"
          ]
        }
      ]
    },
    {
      "cell_type": "code",
      "source": [
        "print(\"\\n=== SPLITTING BY MODEL TYPE ===\")\n",
        "\n",
        "# Group model berdasarkan seri\n",
        "model_categories = {\n",
        "    'Regular_Series': ['3 SERIES', '5 SERIES', '7 SERIES'],\n",
        "    'X_Series': ['X1', 'X3', 'X5', 'X6'],\n",
        "    'M_Performance': ['M3', 'M5'],\n",
        "    'I_Series': ['I3', 'I8']\n",
        "}\n",
        "\n",
        "for category, models in model_categories.items():\n",
        "    category_data = df_clean[df_clean['Model'].isin(models)]\n",
        "    filename = f\"cleaned_data/by_model/{category}.csv\"\n",
        "    category_data.to_csv(filename, index=False)\n",
        "    print(f\"{category}: {len(category_data)} records -> {filename}\")"
      ],
      "metadata": {
        "colab": {
          "base_uri": "https://localhost:8080/"
        },
        "id": "cQqibmSzycVW",
        "outputId": "a50ecdf6-6d7d-4ee4-c70b-a0fbf549a6c5"
      },
      "execution_count": 5,
      "outputs": [
        {
          "output_type": "stream",
          "name": "stdout",
          "text": [
            "\n",
            "=== SPLITTING BY MODEL TYPE ===\n",
            "Regular_Series: 13853 records -> cleaned_data/by_model/Regular_Series.csv\n",
            "X_Series: 18032 records -> cleaned_data/by_model/X_Series.csv\n",
            "M_Performance: 8891 records -> cleaned_data/by_model/M_Performance.csv\n",
            "I_Series: 9224 records -> cleaned_data/by_model/I_Series.csv\n"
          ]
        }
      ]
    },
    {
      "cell_type": "code",
      "source": [
        "print(\"\\n=== SUMMARY ===\")\n",
        "print(f\"Total records setelah cleaning: {len(df_clean)}\")\n",
        "\n",
        "# Analisis per tahun\n",
        "print(\"\\nRecords per year:\")\n",
        "print(df_clean['Year'].value_counts().sort_index())\n",
        "\n",
        "# Analisis per model\n",
        "print(\"\\nRecords per model:\")\n",
        "print(df_clean['Model'].value_counts())\n",
        "\n",
        "# Analisis per region\n",
        "print(\"\\nRecords per region:\")\n",
        "print(df_clean['Region'].value_counts())"
      ],
      "metadata": {
        "colab": {
          "base_uri": "https://localhost:8080/"
        },
        "id": "EAgRRzM1yf7_",
        "outputId": "d0d26c20-bf02-4c4f-b8ea-9d0f53c709e1"
      },
      "execution_count": 6,
      "outputs": [
        {
          "output_type": "stream",
          "name": "stdout",
          "text": [
            "\n",
            "=== SUMMARY ===\n",
            "Total records setelah cleaning: 50000\n",
            "\n",
            "Records per year:\n",
            "Year\n",
            "2010    3330\n",
            "2011    3278\n",
            "2012    3332\n",
            "2013    3326\n",
            "2014    3350\n",
            "2015    3358\n",
            "2016    3365\n",
            "2017    3290\n",
            "2018    3278\n",
            "2019    3392\n",
            "2020    3205\n",
            "2021    3372\n",
            "2022    3478\n",
            "2023    3219\n",
            "2024    3427\n",
            "Name: count, dtype: int64\n",
            "\n",
            "Records per model:\n",
            "Model\n",
            "7 SERIES    4666\n",
            "I3          4618\n",
            "I8          4606\n",
            "3 SERIES    4595\n",
            "5 SERIES    4592\n",
            "X1          4570\n",
            "X3          4497\n",
            "X5          4487\n",
            "M5          4478\n",
            "X6          4478\n",
            "M3          4413\n",
            "Name: count, dtype: int64\n",
            "\n",
            "Records per region:\n",
            "Region\n",
            "Asia             8454\n",
            "Middle East      8373\n",
            "North America    8335\n",
            "Europe           8334\n",
            "Africa           8253\n",
            "South America    8251\n",
            "Name: count, dtype: int64\n"
          ]
        }
      ]
    },
    {
      "cell_type": "code",
      "source": [
        "# Identifikasi outlier pada harga\n",
        "print(\"\\n=== PRICE ANALYSIS ===\")\n",
        "print(df_clean['Price_USD'].describe())\n",
        "\n",
        "# Identifikasi outlier pada mileage\n",
        "print(\"\\n=== MILEAGE ANALYSIS ===\")\n",
        "print(df_clean['Mileage_KM'].describe())\n",
        "\n",
        "# Filter outlier jika diperlukan\n",
        "Q1 = df_clean['Price_USD'].quantile(0.25)\n",
        "Q3 = df_clean['Price_USD'].quantile(0.75)\n",
        "IQR = Q3 - Q1\n",
        "\n",
        "lower_bound = Q1 - 1.5 * IQR\n",
        "upper_bound = Q3 + 1.5 * IQR\n",
        "\n",
        "df_no_outliers = df_clean[\n",
        "    (df_clean['Price_USD'] >= lower_bound) &\n",
        "    (df_clean['Price_USD'] <= upper_bound)\n",
        "]\n",
        "\n",
        "print(f\"Data setelah remove price outliers: {len(df_no_outliers)} records\")\n",
        "df_no_outliers.to_csv(\"cleaned_data/cars_no_outliers.csv\", index=False)"
      ],
      "metadata": {
        "colab": {
          "base_uri": "https://localhost:8080/"
        },
        "id": "dyUzyFKryjnL",
        "outputId": "5a9bd067-0cd0-4c62-88a2-06f0517eaac5"
      },
      "execution_count": 7,
      "outputs": [
        {
          "output_type": "stream",
          "name": "stdout",
          "text": [
            "\n",
            "=== PRICE ANALYSIS ===\n",
            "count     50000.000000\n",
            "mean      75034.600900\n",
            "std       25998.248882\n",
            "min       30000.000000\n",
            "25%       52434.750000\n",
            "50%       75011.500000\n",
            "75%       97628.250000\n",
            "max      119998.000000\n",
            "Name: Price_USD, dtype: float64\n",
            "\n",
            "=== MILEAGE ANALYSIS ===\n",
            "count     50000.000000\n",
            "mean     100307.203140\n",
            "std       57941.509344\n",
            "min           3.000000\n",
            "25%       50178.000000\n",
            "50%      100388.500000\n",
            "75%      150630.250000\n",
            "max      199996.000000\n",
            "Name: Mileage_KM, dtype: float64\n",
            "Data setelah remove price outliers: 50000 records\n"
          ]
        }
      ]
    },
    {
      "cell_type": "code",
      "source": [
        "# Buat file summary\n",
        "with open(\"cleaned_data/cleaning_report.txt\", \"w\") as f:\n",
        "    f.write(\"DATA CLEANING REPORT\\n\")\n",
        "    f.write(\"==================\\n\\n\")\n",
        "    f.write(f\"Original records: {len(df)}\\n\")\n",
        "    f.write(f\"After cleaning: {len(df_clean)}\\n\")\n",
        "    f.write(f\"Duplicates removed: {len(df) - len(df_clean)}\\n\\n\")\n",
        "\n",
        "    f.write(\"Files created:\\n\")\n",
        "    f.write(\"- all_cars_cleaned.csv (full dataset)\\n\")\n",
        "    f.write(\"- cars_no_outliers.csv (without extreme prices)\\n\")\n",
        "    f.write(\"- by_year/ (3 files by year ranges)\\n\")\n",
        "    f.write(\"- by_model/ (4 files by model categories)\\n\")\n",
        "\n",
        "print(\"\\n✅ Cleaning completed! Check 'cleaned_data' folder.\")"
      ],
      "metadata": {
        "colab": {
          "base_uri": "https://localhost:8080/"
        },
        "id": "jTTqIRA4yn-b",
        "outputId": "4b722a1f-7b1a-4d4f-cc01-a8d51bc1cc78"
      },
      "execution_count": 8,
      "outputs": [
        {
          "output_type": "stream",
          "name": "stdout",
          "text": [
            "\n",
            "✅ Cleaning completed! Check 'cleaned_data' folder.\n"
          ]
        }
      ]
    }
  ]
}